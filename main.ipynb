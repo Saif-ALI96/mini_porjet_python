{
 "cells": [
  {
   "cell_type": "code",
   "execution_count": 14,
   "metadata": {},
   "outputs": [],
   "source": [
    "MAX_LINES = 3\n",
    "def get_number_of_lines():\n",
    "    while True:\n",
    "        lines = input(\"Enter the nomber of lines to bet on (1-\" + str(MAX_LINES) + \") ? \")\n",
    "        if lines.isdigit():\n",
    "                lines = int(lines)\n",
    "                if 1 <= lines <= MAX_LINES:\n",
    "                     break\n",
    "        else:\n",
    "            print(\"Please enter a valid of lines.\")\n",
    "                \n",
    "    return lines\n",
    "    \n",
    "\n",
    "        "
   ]
  },
  {
   "cell_type": "code",
   "execution_count": 19,
   "metadata": {},
   "outputs": [
    {
     "name": "stdout",
     "output_type": "stream",
     "text": [
      "Please enter a valid of lines.\n",
      "Please enter a valid of lines.\n"
     ]
    },
    {
     "data": {
      "text/plain": [
       "1"
      ]
     },
     "execution_count": 19,
     "metadata": {},
     "output_type": "execute_result"
    }
   ],
   "source": [
    "get_number_of_lines()"
   ]
  },
  {
   "cell_type": "code",
   "execution_count": 72,
   "metadata": {},
   "outputs": [],
   "source": [
    "# maintenant la partie qui va faire fonctionner la machine\n",
    "ROWS = 3\n",
    "COLS = 3\n",
    "\n",
    "symbol_count = {\n",
    "    \"A\" : 2 , \n",
    "    \"B\" : 4 ,\n",
    "    \"C\" : 6 ,\n",
    "    \"D\" : 8\n",
    "}\n",
    "def generate_slot_machine_spin(rows, cols,symbols):\n",
    "#  rows : le nombre de rangées dans la machine\n",
    "#  cols : le nombre de colonnes dans la machine\n",
    "#  symbols : le dictionnaire contenant les symboles et leur nombre d'apparitions (par exemple des lettres ou des chiffres)\n",
    "    spin = []\n",
    "    for symbol , symbol_count in symbols.items():\n",
    "\n",
    "        for _ in range(symbol_count):\n",
    "\n",
    "            spin.append(symbol)\n",
    "    \n",
    "    columns = []\n",
    "\n",
    "    for _ in range(cols):\n",
    "        column = []\n",
    "        current_symbols = spin.copy()\n",
    "\n",
    "        for _ in range(rows):\n",
    "\n",
    "            value = random.choice(current_symbols)\n",
    "            current_symbols.remove(value)\n",
    "            column.append(value)\n",
    "        \n",
    "        columns.append(column)\n",
    "\n",
    "    return columns\n",
    "\n",
    "\n",
    "\n"
   ]
  },
  {
   "cell_type": "code",
   "execution_count": 76,
   "metadata": {},
   "outputs": [],
   "source": [
    "#  on voudrait voir ou printer ce qu'il y a dans columns pour \n",
    "#  pouvoir les tester apres \n",
    "\n",
    "def print_slot_machine(columns):\n",
    "    for row in range(len(columns)):\n",
    "        \n",
    "        for i , column in enumerate(columns):\n",
    "\n",
    "            if i != len(columns) - 1 :\n",
    "                print(column[row] , end=\" | \")\n",
    "            else:\n",
    "                print(f\"{column[row]}\", end=\"\")\n",
    "    \n",
    "    print()\n"
   ]
  },
  {
   "cell_type": "code",
   "execution_count": 77,
   "metadata": {},
   "outputs": [],
   "source": [
    "columns = generate_slot_machine_spin(ROWS,COLS,symbol_count)\n"
   ]
  },
  {
   "cell_type": "code",
   "execution_count": 78,
   "metadata": {},
   "outputs": [
    {
     "name": "stdout",
     "output_type": "stream",
     "text": [
      "D | C | BD | D | DA | C | C\n"
     ]
    }
   ],
   "source": [
    "print_slot_machine(columns)"
   ]
  },
  {
   "cell_type": "code",
   "execution_count": 81,
   "metadata": {},
   "outputs": [],
   "source": [
    "columns = [\n",
    "    [\"A\", \"A\", \"A\"],\n",
    "    [\"B\", \"B\", \"B\"],\n",
    "    [\"C\", \"D\", \"C\"]\n",
    "]\n",
    "lines = 3\n",
    "bet = 10\n",
    "symbol_values = {\n",
    "    \"A\": 5,\n",
    "    \"B\": 4,\n",
    "    \"C\": 3,\n",
    "    \"D\": 2\n",
    "}\n"
   ]
  },
  {
   "cell_type": "code",
   "execution_count": 87,
   "metadata": {},
   "outputs": [],
   "source": [
    "def check_winnings(columns,lines,bet, values):\n",
    "    winnings = 0\n",
    "    winnings_lines = []\n",
    "    for line in range(lines):\n",
    "        symbol = columns[0][line]\n",
    "\n",
    "        for column in columns:\n",
    "            symbol_to_check = column[line]\n",
    "            if symbol != symbol_to_check:\n",
    "                break\n",
    "        else:\n",
    "            winnings += values[symbol] * bet\n",
    "            winnings_lines.append(winnings_lines + 1 )\n",
    "\n",
    "        \n",
    "    return winnings, winnings_lines\n",
    "\n"
   ]
  },
  {
   "cell_type": "code",
   "execution_count": 91,
   "metadata": {},
   "outputs": [],
   "source": [
    "winnings, winning_lines = check_winnings(columns, lines, bet, symbol_values)\n"
   ]
  },
  {
   "cell_type": "code",
   "execution_count": 92,
   "metadata": {},
   "outputs": [
    {
     "name": "stdout",
     "output_type": "stream",
     "text": [
      "Gains totaux : 0\n",
      "Lignes gagnantes : []\n"
     ]
    }
   ],
   "source": [
    "print(\"Gains totaux :\", winnings)\n",
    "print(\"Lignes gagnantes :\", winning_lines)\n"
   ]
  }
 ],
 "metadata": {
  "kernelspec": {
   "display_name": "Python 3",
   "language": "python",
   "name": "python3"
  },
  "language_info": {
   "codemirror_mode": {
    "name": "ipython",
    "version": 3
   },
   "file_extension": ".py",
   "mimetype": "text/x-python",
   "name": "python",
   "nbconvert_exporter": "python",
   "pygments_lexer": "ipython3",
   "version": "3.11.3"
  }
 },
 "nbformat": 4,
 "nbformat_minor": 2
}

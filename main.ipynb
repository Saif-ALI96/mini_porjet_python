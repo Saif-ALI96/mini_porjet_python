{
 "cells": [
  {
   "cell_type": "code",
   "execution_count": null,
   "metadata": {},
   "outputs": [],
   "source": [
    "#  fais toujours une fausse code avant de coder en vrai\n",
    "# par exemple expliquer ou ecrire ce que je dois faire d'abord et apres commencer a coder\n",
    "#  il s'appelle en englais \n",
    "# pseudocode\n"
   ]
  },
  {
   "cell_type": "code",
   "execution_count": 5,
   "metadata": {},
   "outputs": [
    {
     "name": "stdout",
     "output_type": "stream",
     "text": [
      "hello Saif Ali.\n"
     ]
    }
   ],
   "source": [
    "# name = input('entre your name ? ')\n",
    "\n",
    "#  remove whitepace form str\n",
    "# name = name.strip()\n",
    "# name = name.title()\n",
    "# print(f'hello {name}')"
   ]
  },
  {
   "cell_type": "code",
   "execution_count": 10,
   "metadata": {},
   "outputs": [
    {
     "name": "stdout",
     "output_type": "stream",
     "text": [
      "hello Saif Ali.\n"
     ]
    }
   ],
   "source": [
    "# #  une autre facone le faire pour gagner\n",
    "# #  plus de ligne \n",
    "\n",
    "# name = input('entre your name ? ').title().strip()\n",
    "# print(f'hello {name}')\n"
   ]
  },
  {
   "cell_type": "code",
   "execution_count": null,
   "metadata": {},
   "outputs": [],
   "source": [
    "#  pour ceer un fichier dans le vs code \n",
    "# on ouvert le terminal et on ecrit le mot \n",
    "# \"code \" avec le nom du fichier souhaite ceer\n"
   ]
  },
  {
   "cell_type": "code",
   "execution_count": 6,
   "metadata": {},
   "outputs": [
    {
     "name": "stdout",
     "output_type": "stream",
     "text": [
      "is Odd\n"
     ]
    }
   ],
   "source": [
    "def main ():\n",
    "    score = int(input(\"enter your number \"))\n",
    "    if is_even(score):\n",
    "        print('is Even')\n",
    "    else:\n",
    "        print('is Odd')\n",
    "\n",
    "def is_even(n):\n",
    "    # if n % 2 == 0:  \n",
    "    #     return True\n",
    "    # else:\n",
    "    #     return False\n",
    "    return True if n % 2 == 0 else False\n",
    "\n",
    "main()"
   ]
  }
 ],
 "metadata": {
  "kernelspec": {
   "display_name": "Python 3",
   "language": "python",
   "name": "python3"
  },
  "language_info": {
   "codemirror_mode": {
    "name": "ipython",
    "version": 3
   },
   "file_extension": ".py",
   "mimetype": "text/x-python",
   "name": "python",
   "nbconvert_exporter": "python",
   "pygments_lexer": "ipython3",
   "version": "3.11.3"
  }
 },
 "nbformat": 4,
 "nbformat_minor": 2
}

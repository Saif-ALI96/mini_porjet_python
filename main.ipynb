{
 "cells": [
  {
   "cell_type": "code",
   "execution_count": 13,
   "metadata": {},
   "outputs": [],
   "source": [
    "MAX_LINES = 3\n",
    "def get_number_of_lines():\n",
    "    while True:\n",
    "        lines = input(\"Enter the nomber of lines to bet on (1-\" + str(MAX_LINES) + \") ? \")\n",
    "        if lines.isdigit():\n",
    "                lines = int(lines)\n",
    "                if 1 <= lines <= MAX_LINES:\n",
    "                     break\n",
    "        else:\n",
    "            print(\"Please enter a valid of lines.\")\n",
    "                \n",
    "    return lines\n",
    "    \n",
    "\n",
    "        "
   ]
  },
  {
   "cell_type": "code",
   "execution_count": 12,
   "metadata": {},
   "outputs": [
    {
     "name": "stdout",
     "output_type": "stream",
     "text": [
      "Please enter a valid of lines.\n",
      "Please enter a valid of lines.\n",
      "Please enter a valid of lines.\n"
     ]
    },
    {
     "data": {
      "text/plain": [
       "1"
      ]
     },
     "execution_count": 12,
     "metadata": {},
     "output_type": "execute_result"
    }
   ],
   "source": [
    "get_number_of_lines()"
   ]
  }
 ],
 "metadata": {
  "kernelspec": {
   "display_name": "Python 3",
   "language": "python",
   "name": "python3"
  },
  "language_info": {
   "codemirror_mode": {
    "name": "ipython",
    "version": 3
   },
   "file_extension": ".py",
   "mimetype": "text/x-python",
   "name": "python",
   "nbconvert_exporter": "python",
   "pygments_lexer": "ipython3",
   "version": "3.11.3"
  }
 },
 "nbformat": 4,
 "nbformat_minor": 2
}
